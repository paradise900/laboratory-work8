{
 "cells": [
  {
   "cell_type": "code",
   "execution_count": 5,
   "metadata": {},
   "outputs": [],
   "source": [
    "import numpy as np\n",
    "import cv2\n",
    "import time\n"
   ]
  },
  {
   "cell_type": "code",
   "execution_count": 6,
   "metadata": {},
   "outputs": [
    {
     "data": {
      "text/plain": [
       "True"
      ]
     },
     "execution_count": 6,
     "metadata": {},
     "output_type": "execute_result"
    }
   ],
   "source": [
    "src = cv2.imread('variant-4.jpeg', cv2.IMREAD_UNCHANGED)\n",
    "blue_channel = src[:,:,0]\n",
    "blue_img = np.zeros(src.shape)\n",
    "blue_img[:,:,0] = blue_channel\n",
    "cv2.imwrite('blue_chanale.png', blue_img) "
   ]
  },
  {
   "cell_type": "code",
   "execution_count": 7,
   "metadata": {},
   "outputs": [
    {
     "name": "stderr",
     "output_type": "stream",
     "text": [
      "[ WARN:0@387.405] global /private/var/folders/k1/30mswbxs7r1g6zwn8y4fyt500000gp/T/abs_11nitadzeg/croot/opencv-suite_1691620374638/work/modules/videoio/src/cap_gstreamer.cpp (862) isPipelinePlaying OpenCV | GStreamer warning: GStreamer: pipeline have not been created\n"
     ]
    }
   ],
   "source": [
    "def video_processing():\n",
    "    cap = cv2.VideoCapture(0)\n",
    "    down_points = (576, 324)\n",
    "    i = 0\n",
    "    img = cv2.imread('fly64.png', cv2.IMREAD_UNCHANGED)\n",
    "    while True:\n",
    "        ret, frame = cap.read()\n",
    "        if not ret:\n",
    "            break\n",
    "        frame = cv2.resize(frame, down_points, interpolation=cv2.INTER_LINEAR)\n",
    "        gray = cv2.cvtColor(frame, cv2.COLOR_BGR2GRAY)\n",
    "        gray = cv2.GaussianBlur(gray, (21, 21), 0)\n",
    "        ret, thresh = cv2.threshold(gray, 110, 255, cv2.THRESH_BINARY_INV)\n",
    "\n",
    "        contours, hierarchy = cv2.findContours(thresh,\n",
    "                            cv2.RETR_EXTERNAL, cv2.CHAIN_APPROX_NONE)\n",
    "        if len(contours) > 0:\n",
    "            c = max(contours, key=cv2.contourArea)\n",
    "            x, y, w, h = cv2.boundingRect(c)\n",
    "            cv2.rectangle(frame, (x, y), (x+w, y+h), (0, 255, 0), 2)\n",
    "            if x >= 320:\n",
    "                right = True\n",
    "            else:\n",
    "                right = False\n",
    "            img_res = cv2.resize(img, (w, h))\n",
    "            for c in range(0, 3):\n",
    "                frame[y:y + h, x:x + w, c] = (img_res[:, :, c] *\n",
    "                                            (img_res[:, :, 3] / 255.0) + frame[y:y + h, x:x + w, c] *\n",
    "                                            (1.0 - img_res[:, :, 3] / 255.0))\n",
    "        cv2.putText(frame, f\"Position: {right}\", (10, 30),\n",
    "                    cv2.FONT_HERSHEY_SIMPLEX, 1, (0, 0, 0), 2)\n",
    "        cv2.imshow('frame', frame)\n",
    "        if cv2.waitKey(1) & 0xFF == ord('q'):\n",
    "            break\n",
    "        time.sleep(0.1)\n",
    "        i += 1\n",
    "    cap.release()\n",
    "\n",
    "\n",
    "if __name__ == '__main__':\n",
    "    video_processing()\n",
    "\n",
    "cv2.waitKey(0)\n",
    "cv2.destroyAllWindows()"
   ]
  }
 ],
 "metadata": {
  "kernelspec": {
   "display_name": "base",
   "language": "python",
   "name": "python3"
  },
  "language_info": {
   "codemirror_mode": {
    "name": "ipython",
    "version": 3
   },
   "file_extension": ".py",
   "mimetype": "text/x-python",
   "name": "python",
   "nbconvert_exporter": "python",
   "pygments_lexer": "ipython3",
   "version": "3.11.4"
  }
 },
 "nbformat": 4,
 "nbformat_minor": 2
}
